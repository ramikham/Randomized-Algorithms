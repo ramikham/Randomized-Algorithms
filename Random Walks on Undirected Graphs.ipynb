{
 "cells": [
  {
   "cell_type": "markdown",
   "id": "6d923002",
   "metadata": {},
   "source": [
    "# Random Walks on Undirected Graphs\n",
    "\n",
    "In this notebook, we will implement and describe a randomized algorithm that solves the s-t connectivity problem."
   ]
  },
  {
   "cell_type": "markdown",
   "id": "fc674706",
   "metadata": {},
   "source": [
    "## Representing Graphs\n",
    "\n",
    "We will use an adjacency list representation by means of a dictionary. Vertices will be keys and the list of edges will be values. An example is the following graph:"
   ]
  },
  {
   "cell_type": "code",
   "execution_count": 1,
   "id": "e57406f5",
   "metadata": {},
   "outputs": [],
   "source": [
    "graph = {\n",
    "    'A': ['B', 'C'],\n",
    "    'B': ['A', 'D', 'E'],\n",
    "    'C': ['A', 'F'],\n",
    "    'D': ['B'],\n",
    "    'E': ['B', 'F'],\n",
    "    'F': ['C', 'E'],\n",
    "    'G': []\n",
    "}"
   ]
  },
  {
   "cell_type": "markdown",
   "id": "1735e9f3",
   "metadata": {},
   "source": [
    "Here, for example, we have a vertex *A* that has edges to the two vertices *B* and *C*. We note that by the definition of undirected graphs, if *A* is connected to *B*, then *B* is also connected to *A*, which is apparent in the representation shown above."
   ]
  },
  {
   "cell_type": "markdown",
   "id": "7401e4eb",
   "metadata": {},
   "source": [
    "## The s-t Connectivity Problem\n",
    "\n",
    "We are given an undirected graph *G = (V,E)* and two vertices *s*(=start) and t(=target) in G. We denote |V| = *n* and |E| = *m*; that is, the number of vertices is *n* and the nubmer of edges is *m*. The goal is to check wheter there exist an s-t path (i.e., wheter we can reach *t* when we start at *s*)."
   ]
  },
  {
   "cell_type": "markdown",
   "id": "5d016daf",
   "metadata": {},
   "source": [
    "## A First Solution Using BFS\n",
    "\n",
    "We can solve this problem using a graph traversal algorithm. We can either use BFS or DFS. Both of these solutions taken a linear time (O(n)). "
   ]
  },
  {
   "cell_type": "code",
   "execution_count": 2,
   "id": "75c4a233",
   "metadata": {},
   "outputs": [
    {
     "name": "stdout",
     "output_type": "stream",
     "text": [
      "True\n",
      "False\n"
     ]
    }
   ],
   "source": [
    "from collections import deque\n",
    "\n",
    "def bfs(graph, start, target):\n",
    "    explored = []\n",
    "    \n",
    "    queue = [start]\n",
    "    \n",
    "    levels = {}\n",
    "    levels[start] = 0\n",
    "    \n",
    "    visited = [start]\n",
    "    \n",
    "    while queue:\n",
    "        node = queue.pop(0)\n",
    "        explored.append(node)\n",
    "        neighbors = graph[node]\n",
    "        \n",
    "        for neighbor in neighbors:\n",
    "            if neighbor not in visited:\n",
    "                queue.append(neighbor)\n",
    "                visited.append(neighbor)\n",
    "                \n",
    "                levels[neighbor] = levels[node] + 1\n",
    "                \n",
    "    return target in explored\n",
    "\n",
    "print(bfs(graph, 'A', 'F'))\n",
    "print(bfs(graph, 'A', 'G'))"
   ]
  },
  {
   "cell_type": "markdown",
   "id": "85fc0b6f",
   "metadata": {},
   "source": [
    "As shown above, the BFS algorithm correctly outputs that there exists a path between the two vertices *A* and *F*, and it correctly outputs that there exists no path between *A* and *G*. Similarly, we could have used DFS; however, these two algorithms require $\\mathsf{\\Omega}$(n) space."
   ]
  },
  {
   "cell_type": "markdown",
   "id": "58f775df",
   "metadata": {},
   "source": [
    "## A Second Solution Using a Random Walk\n",
    "\n",
    "What if we are restricted to logarithmic space? Imagine that we are restricted to only storing a constant number of pointers into the input and a constant number of counters with values in the range [0,n]. In the following, we will see how s-t connectivity has a log-space solution that utilizes randomness.\n",
    "\n",
    "The algorthm details are shown below:"
   ]
  },
  {
   "cell_type": "markdown",
   "id": "c1d45c94",
   "metadata": {},
   "source": [
    "s-t Connectivity(s,t):\n",
    "1. Invoke a random walk starting from s.\n",
    "2. Initialize steps_taken = 0.\n",
    "3. While the steps_taken < 2n^3:\n",
    "    4. if t is reached, then RETURN TRUE\n",
    "5. End-While\n",
    "6. RETURN FALSE\n"
   ]
  },
  {
   "cell_type": "markdown",
   "id": "5567907e",
   "metadata": {},
   "source": [
    "* **Case 1: There is no path.**\n",
    "    In this case, the algorithm returns the correct answer, since it will halt after $2n^{3}$ steps either way. Hence, Pr[Algorithm outputs \"YES\" when real answer is \"NO\"] = 0 and Pr[Algorithm outputs \"NO\" when real answer is \"NO\"] = 1.\n",
    "    \n",
    "* **Case 2: There exists an s-t path.** \n",
    "    In this case, the algorithm only returns the correct answer if it sees *t* after $2n^{3}$ steps; otherwise, it returns the wrong answer. \n",
    "    \n",
    "    \n",
    "A key question is how can we bound the probability of failure in the second case. The idea is to note that there exists a path from *s* to *t* iff they are both in the same connected component. This means that the time it takes the random walk to visit *t* when starting from *s* is bounded above by the **cover time** of this connected component. Define the **cover time** of a graph to be the maximum (over all vertices) of the expected time to visit all of the nodes in the graph (at least once) by means of a random walk starting from some vertex [2]. The cover time of a graph is bounded above by 2|E|(|V| - 1), which can be at most $n^{3}$ in the case of a dense graph.\n",
    "\n",
    "We can bound the probability of failure using Markov's inequality:\n",
    "$$ \\Pr[\\text{Algorithm outputs \"NO\" when real answer is \"YES\"}] \\leq \\Pr[\\text{cover time} \\geq 2n^{3}] \\leq \\frac{E[X]}{2n^{3}} = \\frac{n^{3}}{2n^{3}} = \\frac{1}{2} $$\n",
    "\n",
    "To see this in effect, consider the following tests:"
   ]
  },
  {
   "cell_type": "code",
   "execution_count": 40,
   "id": "c2879f18",
   "metadata": {},
   "outputs": [
    {
     "name": "stdout",
     "output_type": "stream",
     "text": [
      "False\n"
     ]
    }
   ],
   "source": [
    "import random \n",
    "\n",
    "def random_walk(graph, s, t, max_steps):\n",
    "    current_vertex = s\n",
    "    steps_taken = 0\n",
    "    \n",
    "    while steps_taken < max_steps:\n",
    "        if current_vertex == t:\n",
    "            return True\n",
    "        steps_taken += 1\n",
    "        current_vertex = random.choice(graph[current_vertex])\n",
    "    \n",
    "    return False\n",
    "\n",
    "n = len(graph)\n",
    "print(random_walk(graph, 'A', 'F', n))"
   ]
  },
  {
   "cell_type": "code",
   "execution_count": 41,
   "id": "d434b0a2",
   "metadata": {},
   "outputs": [
    {
     "name": "stdout",
     "output_type": "stream",
     "text": [
      "Testing graph: {'A': ['B', 'C'], 'B': ['A', 'C', 'D'], 'C': ['A', 'B'], 'D': ['B', 'E'], 'E': ['D']}\n",
      "random_walk(A -> B) : True\n",
      "random_walk(A -> C) : True\n",
      "random_walk(A -> D) : False\n",
      "random_walk(A -> E) : False\n",
      "random_walk(B -> A) : False\n",
      "random_walk(B -> C) : True\n",
      "random_walk(B -> D) : False\n",
      "random_walk(B -> E) : False\n",
      "random_walk(C -> A) : True\n",
      "random_walk(C -> B) : True\n",
      "random_walk(C -> D) : False\n",
      "random_walk(C -> E) : False\n",
      "random_walk(D -> A) : False\n",
      "random_walk(D -> B) : True\n",
      "random_walk(D -> C) : True\n",
      "random_walk(D -> E) : True\n",
      "random_walk(E -> A) : False\n",
      "random_walk(E -> B) : True\n",
      "random_walk(E -> C) : False\n",
      "random_walk(E -> D) : True\n",
      "Testing graph: {'A': ['B', 'C'], 'B': ['A'], 'C': ['A'], 'D': ['E'], 'E': ['D']}\n",
      "random_walk(A -> B) : True\n",
      "random_walk(A -> C) : True\n",
      "random_walk(A -> D) : False\n",
      "random_walk(A -> E) : False\n",
      "random_walk(B -> A) : True\n",
      "random_walk(B -> C) : False\n",
      "random_walk(B -> D) : False\n",
      "random_walk(B -> E) : False\n",
      "random_walk(C -> A) : True\n",
      "random_walk(C -> B) : True\n",
      "random_walk(C -> D) : False\n",
      "random_walk(C -> E) : False\n",
      "random_walk(D -> A) : False\n",
      "random_walk(D -> B) : False\n",
      "random_walk(D -> C) : False\n",
      "random_walk(D -> E) : True\n",
      "random_walk(E -> A) : False\n",
      "random_walk(E -> B) : False\n",
      "random_walk(E -> C) : False\n",
      "random_walk(E -> D) : True\n"
     ]
    }
   ],
   "source": [
    "def test_random_walk():\n",
    "    # Test cases where there is a path from s to t\n",
    "    graph_with_path = {\n",
    "    'A': ['B', 'C'],\n",
    "    'B': ['A', 'C', 'D'],\n",
    "    'C': ['A', 'B'],\n",
    "    'D': ['B', 'E'],\n",
    "    'E': ['D']\n",
    "    }\n",
    "    \n",
    "    # Test cases where there is no path from s to t\n",
    "    graph_no_path = {\n",
    "        'A': ['B', 'C'],\n",
    "        'B': ['A'],\n",
    "        'C': ['A'],\n",
    "        'D': ['E'],\n",
    "        'E': ['D']\n",
    "    }\n",
    "    \n",
    "    for graph in [graph_with_path, graph_no_path]:\n",
    "        print(\"Testing graph:\", graph)\n",
    "        n = len(graph)\n",
    "        for s in graph:\n",
    "            for t in graph:\n",
    "                if s != t:\n",
    "                    result = random_walk(graph, s, t, n)\n",
    "                    print(f\"random_walk({s} -> {t}) : {result}\")\n",
    "\n",
    "test_random_walk()\n"
   ]
  },
  {
   "cell_type": "code",
   "execution_count": 42,
   "id": "e7f1a811",
   "metadata": {},
   "outputs": [
    {
     "name": "stdout",
     "output_type": "stream",
     "text": [
      "Testing graph: {'A': ['B', 'C'], 'B': ['A', 'C', 'D'], 'C': ['A', 'B'], 'D': ['B', 'E'], 'E': ['D']}\n",
      "dfs(A -> B) : True\n",
      "dfs(A -> C) : True\n",
      "dfs(A -> D) : True\n",
      "dfs(A -> E) : True\n",
      "dfs(B -> A) : True\n",
      "dfs(B -> C) : True\n",
      "dfs(B -> D) : True\n",
      "dfs(B -> E) : True\n",
      "dfs(C -> A) : True\n",
      "dfs(C -> B) : True\n",
      "dfs(C -> D) : True\n",
      "dfs(C -> E) : True\n",
      "dfs(D -> A) : True\n",
      "dfs(D -> B) : True\n",
      "dfs(D -> C) : True\n",
      "dfs(D -> E) : True\n",
      "dfs(E -> A) : True\n",
      "dfs(E -> B) : True\n",
      "dfs(E -> C) : True\n",
      "dfs(E -> D) : True\n",
      "Testing graph: {'A': ['B', 'C'], 'B': ['A'], 'C': ['A'], 'D': ['E'], 'E': ['D']}\n",
      "dfs(A -> B) : True\n",
      "dfs(A -> C) : True\n",
      "dfs(A -> D) : False\n",
      "dfs(A -> E) : False\n",
      "dfs(B -> A) : True\n",
      "dfs(B -> C) : True\n",
      "dfs(B -> D) : False\n",
      "dfs(B -> E) : False\n",
      "dfs(C -> A) : True\n",
      "dfs(C -> B) : True\n",
      "dfs(C -> D) : False\n",
      "dfs(C -> E) : False\n",
      "dfs(D -> A) : False\n",
      "dfs(D -> B) : False\n",
      "dfs(D -> C) : False\n",
      "dfs(D -> E) : True\n",
      "dfs(E -> A) : False\n",
      "dfs(E -> B) : False\n",
      "dfs(E -> C) : False\n",
      "dfs(E -> D) : True\n"
     ]
    }
   ],
   "source": [
    "def test_bfs():\n",
    "    # Test cases where there is a path from s to t\n",
    "    graph_with_path = {\n",
    "            'A': ['B', 'C'],\n",
    "    'B': ['A', 'C', 'D'],\n",
    "    'C': ['A', 'B'],\n",
    "    'D': ['B', 'E'],\n",
    "    'E': ['D']\n",
    "    }\n",
    "    \n",
    "    \n",
    "    # Test cases where there is no path from s to t\n",
    "    graph_no_path = {\n",
    "        'A': ['B', 'C'],\n",
    "        'B': ['A'],\n",
    "        'C': ['A'],\n",
    "        'D': ['E'],\n",
    "        'E': ['D']\n",
    "    }\n",
    "    \n",
    "    for graph in [graph_with_path, graph_no_path]:\n",
    "        print(\"Testing graph:\", graph)\n",
    "        n = len(graph)\n",
    "        for s in graph:\n",
    "            for t in graph:\n",
    "                if s != t:\n",
    "                    result = bfs(graph, s, t)\n",
    "                    print(f\"dfs({s} -> {t}) : {result}\")\n",
    "\n",
    "test_bfs()\n"
   ]
  },
  {
   "cell_type": "markdown",
   "id": "3f2e2b15",
   "metadata": {},
   "source": [
    "In the case of a graph where an *s*-*t* path exists, the random walk algorithm fails in 10 out of 20 tests. In the case where there is no path from *s* to *t*, the random walk algorithm always succeeds.\n",
    "\n",
    "We can run a Monte Carlo simulation to check the proability of failure of the random walk algorithm."
   ]
  },
  {
   "cell_type": "code",
   "execution_count": 48,
   "id": "68d02994",
   "metadata": {},
   "outputs": [
    {
     "name": "stdout",
     "output_type": "stream",
     "text": [
      "A =  9.12547\n"
     ]
    }
   ],
   "source": [
    "def test_random_walk():\n",
    "    # Test cases where there is a path from s to t\n",
    "    graph_with_path = {\n",
    "    'A': ['B', 'C'],\n",
    "    'B': ['A', 'C', 'D'],\n",
    "    'C': ['A', 'B'],\n",
    "    'D': ['B', 'E'],\n",
    "    'E': ['D']\n",
    "    }\n",
    "    \n",
    "    num_fails = 0\n",
    "    for graph in [graph_with_path]:\n",
    "        n = len(graph)\n",
    "        for s in graph:\n",
    "            for t in graph:\n",
    "                if s != t:\n",
    "                    result = random_walk(graph, s, t, n)\n",
    "                    if (result is False):\n",
    "                        num_fails += 1\n",
    "    return num_fails\n",
    "\n",
    "# Start the Monte Carlo simulation\n",
    "N = 100000\n",
    "sum = 0\n",
    "for i in range(N):\n",
    "    x = test_random_walk()\n",
    "    sum += x\n",
    "print(\"A = \", sum/N)"
   ]
  },
  {
   "cell_type": "markdown",
   "id": "9f8a25c7",
   "metadata": {},
   "source": [
    "As observed, we got 9.1298. This is less than 1/2 when divided by 20.This shows that over many, many runs, the random walk gets at most 1/2 of the answers wrong. \n",
    "\n",
    "We can decrease this probability of failure by running the algorithm for $log(n)$ times, bringing down the error probability to $\\frac{1}{n}$ [3].\n",
    "\n",
    "Finally, we can see the sequence of steps taken to reach the target (if the target is ever reached):"
   ]
  },
  {
   "cell_type": "code",
   "execution_count": 44,
   "id": "ac0d812f",
   "metadata": {},
   "outputs": [],
   "source": [
    "def is_connected_random_walk(graph, s, t, max_steps):\n",
    "    current_vertex = s\n",
    "    steps_taken = 0\n",
    "    \n",
    "    while steps_taken < max_steps:\n",
    "        print(f\"Steps taken: {steps_taken} out of {max_steps}\")\n",
    "        if current_vertex == t:\n",
    "            return True\n",
    "        steps_taken += 1\n",
    "        current_vertex = random.choice(graph[current_vertex])\n",
    "    \n",
    "    return False\n"
   ]
  },
  {
   "cell_type": "code",
   "execution_count": 45,
   "id": "f68b542d",
   "metadata": {},
   "outputs": [],
   "source": [
    "graph = {\n",
    "    'A': ['B', 'C', 'D', 'E', 'F', 'G', 'H', 'I', 'J', 'K', 'L', 'M'],\n",
    "    'B': ['A'],\n",
    "    'C': ['A'],\n",
    "    'D': ['A'],\n",
    "    'E': ['A'],\n",
    "    'F': ['A'],\n",
    "    'G': ['A'],\n",
    "    'H': ['A'],\n",
    "    'I': ['A'],\n",
    "    'J': ['A'],\n",
    "    'K': ['A'],\n",
    "    'L': ['A'],\n",
    "    'M': ['A'],\n",
    "}"
   ]
  },
  {
   "cell_type": "code",
   "execution_count": 49,
   "id": "cc628fdf",
   "metadata": {},
   "outputs": [
    {
     "name": "stdout",
     "output_type": "stream",
     "text": [
      "Steps taken: 0 out of 4394\n",
      "Steps taken: 1 out of 4394\n",
      "Steps taken: 2 out of 4394\n",
      "Steps taken: 3 out of 4394\n",
      "Steps taken: 4 out of 4394\n",
      "Steps taken: 5 out of 4394\n",
      "Steps taken: 6 out of 4394\n",
      "Steps taken: 7 out of 4394\n",
      "Steps taken: 8 out of 4394\n",
      "Steps taken: 9 out of 4394\n",
      "Steps taken: 10 out of 4394\n",
      "Steps taken: 11 out of 4394\n",
      "Steps taken: 12 out of 4394\n",
      "Steps taken: 13 out of 4394\n",
      "Steps taken: 14 out of 4394\n",
      "Steps taken: 15 out of 4394\n",
      "Steps taken: 16 out of 4394\n",
      "Steps taken: 17 out of 4394\n",
      "Steps taken: 18 out of 4394\n",
      "Steps taken: 19 out of 4394\n",
      "Steps taken: 20 out of 4394\n",
      "Steps taken: 21 out of 4394\n",
      "Steps taken: 22 out of 4394\n",
      "Steps taken: 23 out of 4394\n",
      "Steps taken: 24 out of 4394\n",
      "Steps taken: 25 out of 4394\n",
      "Steps taken: 26 out of 4394\n",
      "Steps taken: 27 out of 4394\n",
      "Steps taken: 28 out of 4394\n",
      "Steps taken: 29 out of 4394\n",
      "Steps taken: 30 out of 4394\n",
      "Steps taken: 31 out of 4394\n",
      "Steps taken: 32 out of 4394\n",
      "Steps taken: 33 out of 4394\n",
      "Steps taken: 34 out of 4394\n",
      "Steps taken: 35 out of 4394\n",
      "Steps taken: 36 out of 4394\n",
      "Steps taken: 37 out of 4394\n",
      "Steps taken: 38 out of 4394\n",
      "Steps taken: 39 out of 4394\n",
      "Steps taken: 40 out of 4394\n",
      "Steps taken: 41 out of 4394\n",
      "Steps taken: 42 out of 4394\n",
      "Steps taken: 43 out of 4394\n",
      "Steps taken: 44 out of 4394\n",
      "Steps taken: 45 out of 4394\n",
      "Steps taken: 46 out of 4394\n",
      "Steps taken: 47 out of 4394\n",
      "Steps taken: 48 out of 4394\n",
      "Steps taken: 49 out of 4394\n",
      "Steps taken: 50 out of 4394\n",
      "Steps taken: 51 out of 4394\n"
     ]
    },
    {
     "data": {
      "text/plain": [
       "True"
      ]
     },
     "execution_count": 49,
     "metadata": {},
     "output_type": "execute_result"
    }
   ],
   "source": [
    "is_connected_random_walk(graph, 'A', 'M', steps)"
   ]
  },
  {
   "cell_type": "markdown",
   "id": "8e1844a4",
   "metadata": {},
   "source": [
    "Different number of steps will be produced for different runs of this code."
   ]
  },
  {
   "cell_type": "markdown",
   "id": "c95309cd",
   "metadata": {},
   "source": [
    "## References\n",
    "\n",
    "[1] *Mitzenmacher, Michael, and Eli Upfal. Probability and computing: Randomization and probabilistic techniques in algorithms and data analysis. Cambridge university press, 2017.*\n",
    "\n",
    "[2] https://people.csail.mit.edu/ronitt/COURSE/S22/NOTES/lec11-scribe.pdf\n",
    "\n",
    "[3] https://pages.cs.wisc.edu/~shuchi/courses/787-F09/scribe-notes/lec15.pdf"
   ]
  }
 ],
 "metadata": {
  "kernelspec": {
   "display_name": "Python 3 (ipykernel)",
   "language": "python",
   "name": "python3"
  },
  "language_info": {
   "codemirror_mode": {
    "name": "ipython",
    "version": 3
   },
   "file_extension": ".py",
   "mimetype": "text/x-python",
   "name": "python",
   "nbconvert_exporter": "python",
   "pygments_lexer": "ipython3",
   "version": "3.11.4"
  }
 },
 "nbformat": 4,
 "nbformat_minor": 5
}
